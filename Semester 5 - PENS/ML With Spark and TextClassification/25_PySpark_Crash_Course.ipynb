{
  "cells": [
    {
      "cell_type": "code",
      "execution_count": 1,
      "id": "editorial-printer",
      "metadata": {
        "id": "editorial-printer"
      },
      "outputs": [],
      "source": [
        "# Load Pyspark Pkgs\n",
        "import pyspark"
      ]
    },
    {
      "cell_type": "code",
      "execution_count": 2,
      "id": "dress-regard",
      "metadata": {
        "colab": {
          "base_uri": "https://localhost:8080/",
          "height": 0
        },
        "id": "dress-regard",
        "outputId": "eeda1e9e-ede4-40f2-f31a-f60bfacc4a8d"
      },
      "outputs": [
        {
          "output_type": "execute_result",
          "data": {
            "text/plain": [
              "['Accumulator',\n",
              " 'AccumulatorParam',\n",
              " 'Any',\n",
              " 'BarrierTaskContext',\n",
              " 'BarrierTaskInfo',\n",
              " 'BasicProfiler',\n",
              " 'Broadcast',\n",
              " 'CPickleSerializer',\n",
              " 'Callable',\n",
              " 'HiveContext',\n",
              " 'InheritableThread',\n",
              " 'MarshalSerializer',\n",
              " 'Optional',\n",
              " 'Profiler',\n",
              " 'RDD',\n",
              " 'RDDBarrier',\n",
              " 'Row',\n",
              " 'SQLContext',\n",
              " 'SparkConf',\n",
              " 'SparkContext',\n",
              " 'SparkFiles',\n",
              " 'SparkJobInfo',\n",
              " 'SparkStageInfo',\n",
              " 'StatusTracker',\n",
              " 'StorageLevel',\n",
              " 'TaskContext',\n",
              " 'TypeVar',\n",
              " 'Union',\n",
              " '_F',\n",
              " '_NoValue',\n",
              " '__all__',\n",
              " '__builtins__',\n",
              " '__cached__',\n",
              " '__doc__',\n",
              " '__file__',\n",
              " '__loader__',\n",
              " '__name__',\n",
              " '__package__',\n",
              " '__path__',\n",
              " '__spec__',\n",
              " '__version__',\n",
              " '_globals',\n",
              " 'accumulators',\n",
              " 'broadcast',\n",
              " 'cast',\n",
              " 'cloudpickle',\n",
              " 'conf',\n",
              " 'context',\n",
              " 'copy_func',\n",
              " 'errors',\n",
              " 'files',\n",
              " 'filterwarnings',\n",
              " 'find_spark_home',\n",
              " 'inheritable_thread_target',\n",
              " 'java_gateway',\n",
              " 'join',\n",
              " 'keyword_only',\n",
              " 'profiler',\n",
              " 'rdd',\n",
              " 'rddsampler',\n",
              " 'resource',\n",
              " 'resultiterable',\n",
              " 'serializers',\n",
              " 'shuffle',\n",
              " 'since',\n",
              " 'sql',\n",
              " 'statcounter',\n",
              " 'status',\n",
              " 'storagelevel',\n",
              " 'taskcontext',\n",
              " 'traceback_utils',\n",
              " 'types',\n",
              " 'util',\n",
              " 'version',\n",
              " 'wraps']"
            ]
          },
          "metadata": {},
          "execution_count": 2
        }
      ],
      "source": [
        "# Methods/Attrib\n",
        "dir(pyspark)"
      ]
    },
    {
      "cell_type": "markdown",
      "id": "awful-separation",
      "metadata": {
        "id": "awful-separation"
      },
      "source": [
        "#### Working with DataFrames in PySpark\n",
        "+ Read DataSet(CSV)\n",
        "+ Create DataFrame\n",
        "\n",
        "###### Tips\n",
        "+ SparkSession\n",
        "+ SparkContext :sc\n",
        "+ SqlContext"
      ]
    },
    {
      "cell_type": "code",
      "execution_count": 3,
      "id": "chief-combination",
      "metadata": {
        "id": "chief-combination"
      },
      "outputs": [],
      "source": [
        "# Create A SparkSession\n",
        "from pyspark.sql import SparkSession\n",
        "spark = SparkSession.builder.appName(\"PySparkTut\").getOrCreate()"
      ]
    },
    {
      "cell_type": "code",
      "execution_count": 4,
      "id": "nonprofit-paraguay",
      "metadata": {
        "colab": {
          "base_uri": "https://localhost:8080/",
          "height": 0
        },
        "id": "nonprofit-paraguay",
        "outputId": "8062b208-16ab-4898-b19b-dd85785c6723"
      },
      "outputs": [
        {
          "output_type": "stream",
          "name": "stdout",
          "text": [
            "sample_data\n"
          ]
        }
      ],
      "source": [
        "!ls"
      ]
    },
    {
      "cell_type": "code",
      "execution_count": 5,
      "id": "tested-blues",
      "metadata": {
        "colab": {
          "base_uri": "https://localhost:8080/",
          "height": 0
        },
        "id": "tested-blues",
        "outputId": "75a21b76-5baf-4a1e-cc86-4ae01c861ab2"
      },
      "outputs": [
        {
          "output_type": "stream",
          "name": "stdout",
          "text": [
            "--2024-11-12 07:07:43--  https://raw.githubusercontent.com/Jcharis/common_ml_datasets_explorer_app/master/datasets/diamonds.csv\n",
            "Resolving raw.githubusercontent.com (raw.githubusercontent.com)... 185.199.108.133, 185.199.109.133, 185.199.110.133, ...\n",
            "Connecting to raw.githubusercontent.com (raw.githubusercontent.com)|185.199.108.133|:443... connected.\n",
            "HTTP request sent, awaiting response... 200 OK\n",
            "Length: 2772143 (2.6M) [text/plain]\n",
            "Saving to: ‘diamonds.csv’\n",
            "\n",
            "diamonds.csv        100%[===================>]   2.64M  --.-KB/s    in 0.08s   \n",
            "\n",
            "2024-11-12 07:07:43 (34.7 MB/s) - ‘diamonds.csv’ saved [2772143/2772143]\n",
            "\n"
          ]
        }
      ],
      "source": [
        "!wget https://raw.githubusercontent.com/Jcharis/common_ml_datasets_explorer_app/master/datasets/diamonds.csv"
      ]
    },
    {
      "cell_type": "code",
      "execution_count": 6,
      "id": "documented-laser",
      "metadata": {
        "colab": {
          "base_uri": "https://localhost:8080/",
          "height": 0
        },
        "id": "documented-laser",
        "outputId": "5607d123-b812-49b1-8b1a-cbedefb92b37"
      },
      "outputs": [
        {
          "output_type": "stream",
          "name": "stdout",
          "text": [
            "diamonds.csv  sample_data\n"
          ]
        }
      ],
      "source": [
        "!ls"
      ]
    },
    {
      "cell_type": "code",
      "execution_count": 7,
      "id": "listed-adolescent",
      "metadata": {
        "id": "listed-adolescent"
      },
      "outputs": [],
      "source": [
        "# Read A DataSet without header\n",
        "df = spark.read.csv('diamonds.csv')"
      ]
    },
    {
      "cell_type": "code",
      "execution_count": 8,
      "id": "centered-naples",
      "metadata": {
        "colab": {
          "base_uri": "https://localhost:8080/",
          "height": 0
        },
        "id": "centered-naples",
        "outputId": "266eb1e4-4e53-403f-9300-08e5153ce994"
      },
      "outputs": [
        {
          "output_type": "stream",
          "name": "stdout",
          "text": [
            "+-----+---------+-----+-------+-----+-----+-----+----+----+----+\n",
            "|  _c0|      _c1|  _c2|    _c3|  _c4|  _c5|  _c6| _c7| _c8| _c9|\n",
            "+-----+---------+-----+-------+-----+-----+-----+----+----+----+\n",
            "|carat|      cut|color|clarity|depth|table|price|   x|   y|   z|\n",
            "| 0.23|    Ideal|    E|    SI2| 61.5|   55|  326|3.95|3.98|2.43|\n",
            "| 0.21|  Premium|    E|    SI1| 59.8|   61|  326|3.89|3.84|2.31|\n",
            "| 0.23|     Good|    E|    VS1| 56.9|   65|  327|4.05|4.07|2.31|\n",
            "| 0.29|  Premium|    I|    VS2| 62.4|   58|  334| 4.2|4.23|2.63|\n",
            "| 0.31|     Good|    J|    SI2| 63.3|   58|  335|4.34|4.35|2.75|\n",
            "| 0.24|Very Good|    J|   VVS2| 62.8|   57|  336|3.94|3.96|2.48|\n",
            "| 0.24|Very Good|    I|   VVS1| 62.3|   57|  336|3.95|3.98|2.47|\n",
            "| 0.26|Very Good|    H|    SI1| 61.9|   55|  337|4.07|4.11|2.53|\n",
            "| 0.22|     Fair|    E|    VS2| 65.1|   61|  337|3.87|3.78|2.49|\n",
            "| 0.23|Very Good|    H|    VS1| 59.4|   61|  338|   4|4.05|2.39|\n",
            "|  0.3|     Good|    J|    SI1|   64|   55|  339|4.25|4.28|2.73|\n",
            "| 0.23|    Ideal|    J|    VS1| 62.8|   56|  340|3.93| 3.9|2.46|\n",
            "| 0.22|  Premium|    F|    SI1| 60.4|   61|  342|3.88|3.84|2.33|\n",
            "| 0.31|    Ideal|    J|    SI2| 62.2|   54|  344|4.35|4.37|2.71|\n",
            "|  0.2|  Premium|    E|    SI2| 60.2|   62|  345|3.79|3.75|2.27|\n",
            "| 0.32|  Premium|    E|     I1| 60.9|   58|  345|4.38|4.42|2.68|\n",
            "|  0.3|    Ideal|    I|    SI2|   62|   54|  348|4.31|4.34|2.68|\n",
            "|  0.3|     Good|    J|    SI1| 63.4|   54|  351|4.23|4.29| 2.7|\n",
            "|  0.3|     Good|    J|    SI1| 63.8|   56|  351|4.23|4.26|2.71|\n",
            "+-----+---------+-----+-------+-----+-----+-----+----+----+----+\n",
            "only showing top 20 rows\n",
            "\n"
          ]
        }
      ],
      "source": [
        "# Preview dataset\n",
        "df.show()"
      ]
    },
    {
      "cell_type": "code",
      "execution_count": 9,
      "id": "acquired-vault",
      "metadata": {
        "id": "acquired-vault"
      },
      "outputs": [],
      "source": [
        "# Read A DataSet with header/column names\n",
        "df = spark.read.csv('diamonds.csv',header=True)"
      ]
    },
    {
      "cell_type": "code",
      "execution_count": 10,
      "id": "featured-repeat",
      "metadata": {
        "colab": {
          "base_uri": "https://localhost:8080/",
          "height": 0
        },
        "id": "featured-repeat",
        "outputId": "4ffea572-95a2-4baf-8967-8033ba3c64a2"
      },
      "outputs": [
        {
          "output_type": "stream",
          "name": "stdout",
          "text": [
            "+-----+---------+-----+-------+-----+-----+-----+----+----+----+\n",
            "|carat|      cut|color|clarity|depth|table|price|   x|   y|   z|\n",
            "+-----+---------+-----+-------+-----+-----+-----+----+----+----+\n",
            "| 0.23|    Ideal|    E|    SI2| 61.5|   55|  326|3.95|3.98|2.43|\n",
            "| 0.21|  Premium|    E|    SI1| 59.8|   61|  326|3.89|3.84|2.31|\n",
            "| 0.23|     Good|    E|    VS1| 56.9|   65|  327|4.05|4.07|2.31|\n",
            "| 0.29|  Premium|    I|    VS2| 62.4|   58|  334| 4.2|4.23|2.63|\n",
            "| 0.31|     Good|    J|    SI2| 63.3|   58|  335|4.34|4.35|2.75|\n",
            "| 0.24|Very Good|    J|   VVS2| 62.8|   57|  336|3.94|3.96|2.48|\n",
            "| 0.24|Very Good|    I|   VVS1| 62.3|   57|  336|3.95|3.98|2.47|\n",
            "| 0.26|Very Good|    H|    SI1| 61.9|   55|  337|4.07|4.11|2.53|\n",
            "| 0.22|     Fair|    E|    VS2| 65.1|   61|  337|3.87|3.78|2.49|\n",
            "| 0.23|Very Good|    H|    VS1| 59.4|   61|  338|   4|4.05|2.39|\n",
            "|  0.3|     Good|    J|    SI1|   64|   55|  339|4.25|4.28|2.73|\n",
            "| 0.23|    Ideal|    J|    VS1| 62.8|   56|  340|3.93| 3.9|2.46|\n",
            "| 0.22|  Premium|    F|    SI1| 60.4|   61|  342|3.88|3.84|2.33|\n",
            "| 0.31|    Ideal|    J|    SI2| 62.2|   54|  344|4.35|4.37|2.71|\n",
            "|  0.2|  Premium|    E|    SI2| 60.2|   62|  345|3.79|3.75|2.27|\n",
            "| 0.32|  Premium|    E|     I1| 60.9|   58|  345|4.38|4.42|2.68|\n",
            "|  0.3|    Ideal|    I|    SI2|   62|   54|  348|4.31|4.34|2.68|\n",
            "|  0.3|     Good|    J|    SI1| 63.4|   54|  351|4.23|4.29| 2.7|\n",
            "|  0.3|     Good|    J|    SI1| 63.8|   56|  351|4.23|4.26|2.71|\n",
            "|  0.3|Very Good|    J|    SI1| 62.7|   59|  351|4.21|4.27|2.66|\n",
            "+-----+---------+-----+-------+-----+-----+-----+----+----+----+\n",
            "only showing top 20 rows\n",
            "\n"
          ]
        }
      ],
      "source": [
        "df.show()"
      ]
    },
    {
      "cell_type": "code",
      "execution_count": 11,
      "id": "scenic-simpson",
      "metadata": {
        "colab": {
          "base_uri": "https://localhost:8080/",
          "height": 0
        },
        "id": "scenic-simpson",
        "outputId": "0ac3a333-c0af-489b-ede9-4ac56a00f617"
      },
      "outputs": [
        {
          "output_type": "execute_result",
          "data": {
            "text/plain": [
              "['carat', 'cut', 'color', 'clarity', 'depth', 'table', 'price', 'x', 'y', 'z']"
            ]
          },
          "metadata": {},
          "execution_count": 11
        }
      ],
      "source": [
        "# Columns\n",
        "df.columns"
      ]
    },
    {
      "cell_type": "code",
      "execution_count": 12,
      "id": "upset-celebration",
      "metadata": {
        "colab": {
          "base_uri": "https://localhost:8080/",
          "height": 0
        },
        "id": "upset-celebration",
        "outputId": "b3b8e751-0b06-4d5b-f203-ce582cac2b34"
      },
      "outputs": [
        {
          "output_type": "execute_result",
          "data": {
            "text/plain": [
              "(53940, 10)"
            ]
          },
          "metadata": {},
          "execution_count": 12
        }
      ],
      "source": [
        "# Shape (rows + columns)\n",
        "(df.count() ,len(df.columns))"
      ]
    },
    {
      "cell_type": "code",
      "execution_count": 13,
      "id": "federal-balloon",
      "metadata": {
        "colab": {
          "base_uri": "https://localhost:8080/",
          "height": 0
        },
        "id": "federal-balloon",
        "outputId": "e75180e7-8dd5-480a-8a22-26094d8f4b74"
      },
      "outputs": [
        {
          "output_type": "execute_result",
          "data": {
            "text/plain": [
              "10"
            ]
          },
          "metadata": {},
          "execution_count": 13
        }
      ],
      "source": [
        "# Number of columns\n",
        "len(df.columns)"
      ]
    },
    {
      "cell_type": "code",
      "execution_count": 14,
      "id": "synthetic-piece",
      "metadata": {
        "colab": {
          "base_uri": "https://localhost:8080/",
          "height": 0
        },
        "id": "synthetic-piece",
        "outputId": "18afeb62-f214-47b0-ee4c-8366b6778175"
      },
      "outputs": [
        {
          "output_type": "execute_result",
          "data": {
            "text/plain": [
              "53940"
            ]
          },
          "metadata": {},
          "execution_count": 14
        }
      ],
      "source": [
        "# Number of rows\n",
        "df.count()"
      ]
    },
    {
      "cell_type": "code",
      "execution_count": 15,
      "id": "first-alexander",
      "metadata": {
        "colab": {
          "base_uri": "https://localhost:8080/",
          "height": 0
        },
        "id": "first-alexander",
        "outputId": "1382a0e7-dcb4-4b04-920c-e64084192f47"
      },
      "outputs": [
        {
          "output_type": "stream",
          "name": "stdout",
          "text": [
            "+-------+------------------+---------+-----+-------+------------------+------------------+-----------------+------------------+------------------+------------------+\n",
            "|summary|             carat|      cut|color|clarity|             depth|             table|            price|                 x|                 y|                 z|\n",
            "+-------+------------------+---------+-----+-------+------------------+------------------+-----------------+------------------+------------------+------------------+\n",
            "|  count|             53940|    53940|53940|  53940|             53940|             53940|            53940|             53940|             53940|             53940|\n",
            "|   mean|0.7979397478679852|     NULL| NULL|   NULL| 61.74940489432624| 57.45718390804603|3932.799721913237| 5.731157211716609| 5.734525954764462|3.5387337782723316|\n",
            "| stddev|0.4740112444054196|     NULL| NULL|   NULL|1.4326213188336525|2.2344905628213247|3989.439738146397|1.1217607467924915|1.1421346741235616|0.7056988469499883|\n",
            "|    min|               0.2|     Fair|    D|     I1|                43|                43|             1000|                 0|                 0|                 0|\n",
            "|    max|              5.01|Very Good|    J|   VVS2|                79|                95|             9999|              9.86|              9.94|              8.06|\n",
            "+-------+------------------+---------+-----+-------+------------------+------------------+-----------------+------------------+------------------+------------------+\n",
            "\n"
          ]
        }
      ],
      "source": [
        "# Descriptive Analysis\n",
        "df.describe().show()"
      ]
    },
    {
      "cell_type": "code",
      "execution_count": 16,
      "id": "recorded-person",
      "metadata": {
        "colab": {
          "base_uri": "https://localhost:8080/",
          "height": 0
        },
        "id": "recorded-person",
        "outputId": "1f4bd711-fb68-4e13-b80f-7bbb475b2c2d"
      },
      "outputs": [
        {
          "output_type": "stream",
          "name": "stdout",
          "text": [
            "+-------+------------------+\n",
            "|summary|             carat|\n",
            "+-------+------------------+\n",
            "|  count|             53940|\n",
            "|   mean|0.7979397478679852|\n",
            "| stddev|0.4740112444054196|\n",
            "|    min|               0.2|\n",
            "|    max|              5.01|\n",
            "+-------+------------------+\n",
            "\n"
          ]
        }
      ],
      "source": [
        "# Pick a column & Get summary/describe a selected column\n",
        "df.describe('carat').show()"
      ]
    },
    {
      "cell_type": "code",
      "execution_count": 17,
      "id": "united-innocent",
      "metadata": {
        "colab": {
          "base_uri": "https://localhost:8080/",
          "height": 0
        },
        "id": "united-innocent",
        "outputId": "896c571c-0bcb-46e3-c543-39ae6860da1e"
      },
      "outputs": [
        {
          "output_type": "execute_result",
          "data": {
            "text/plain": [
              "Row(carat='0.23', cut='Ideal', color='E', clarity='SI2', depth='61.5', table='55', price='326', x='3.95', y='3.98', z='2.43')"
            ]
          },
          "metadata": {},
          "execution_count": 17
        }
      ],
      "source": [
        "# Preview the First Row\n",
        "df.first()"
      ]
    },
    {
      "cell_type": "code",
      "execution_count": 18,
      "id": "fitted-survey",
      "metadata": {
        "colab": {
          "base_uri": "https://localhost:8080/",
          "height": 0
        },
        "id": "fitted-survey",
        "outputId": "7336494a-0f02-4a18-a1ef-c180d7d86679"
      },
      "outputs": [
        {
          "output_type": "execute_result",
          "data": {
            "text/plain": [
              "[Row(carat='0.23', cut='Ideal', color='E', clarity='SI2', depth='61.5', table='55', price='326', x='3.95', y='3.98', z='2.43'),\n",
              " Row(carat='0.21', cut='Premium', color='E', clarity='SI1', depth='59.8', table='61', price='326', x='3.89', y='3.84', z='2.31'),\n",
              " Row(carat='0.23', cut='Good', color='E', clarity='VS1', depth='56.9', table='65', price='327', x='4.05', y='4.07', z='2.31'),\n",
              " Row(carat='0.29', cut='Premium', color='I', clarity='VS2', depth='62.4', table='58', price='334', x='4.2', y='4.23', z='2.63'),\n",
              " Row(carat='0.31', cut='Good', color='J', clarity='SI2', depth='63.3', table='58', price='335', x='4.34', y='4.35', z='2.75'),\n",
              " Row(carat='0.24', cut='Very Good', color='J', clarity='VVS2', depth='62.8', table='57', price='336', x='3.94', y='3.96', z='2.48'),\n",
              " Row(carat='0.24', cut='Very Good', color='I', clarity='VVS1', depth='62.3', table='57', price='336', x='3.95', y='3.98', z='2.47'),\n",
              " Row(carat='0.26', cut='Very Good', color='H', clarity='SI1', depth='61.9', table='55', price='337', x='4.07', y='4.11', z='2.53'),\n",
              " Row(carat='0.22', cut='Fair', color='E', clarity='VS2', depth='65.1', table='61', price='337', x='3.87', y='3.78', z='2.49'),\n",
              " Row(carat='0.23', cut='Very Good', color='H', clarity='VS1', depth='59.4', table='61', price='338', x='4', y='4.05', z='2.39')]"
            ]
          },
          "metadata": {},
          "execution_count": 18
        }
      ],
      "source": [
        "# Preview the first 10 rows\n",
        "# Like a list\n",
        "df.head(10)"
      ]
    },
    {
      "cell_type": "code",
      "execution_count": 19,
      "id": "functioning-gibson",
      "metadata": {
        "colab": {
          "base_uri": "https://localhost:8080/",
          "height": 0
        },
        "id": "functioning-gibson",
        "outputId": "85652e57-fe1e-46ae-de47-5dfb14d72202"
      },
      "outputs": [
        {
          "output_type": "stream",
          "name": "stdout",
          "text": [
            "+-----+---------+-----+-------+-----+-----+-----+----+----+----+\n",
            "|carat|      cut|color|clarity|depth|table|price|   x|   y|   z|\n",
            "+-----+---------+-----+-------+-----+-----+-----+----+----+----+\n",
            "| 0.23|    Ideal|    E|    SI2| 61.5|   55|  326|3.95|3.98|2.43|\n",
            "| 0.21|  Premium|    E|    SI1| 59.8|   61|  326|3.89|3.84|2.31|\n",
            "| 0.23|     Good|    E|    VS1| 56.9|   65|  327|4.05|4.07|2.31|\n",
            "| 0.29|  Premium|    I|    VS2| 62.4|   58|  334| 4.2|4.23|2.63|\n",
            "| 0.31|     Good|    J|    SI2| 63.3|   58|  335|4.34|4.35|2.75|\n",
            "| 0.24|Very Good|    J|   VVS2| 62.8|   57|  336|3.94|3.96|2.48|\n",
            "| 0.24|Very Good|    I|   VVS1| 62.3|   57|  336|3.95|3.98|2.47|\n",
            "| 0.26|Very Good|    H|    SI1| 61.9|   55|  337|4.07|4.11|2.53|\n",
            "| 0.22|     Fair|    E|    VS2| 65.1|   61|  337|3.87|3.78|2.49|\n",
            "| 0.23|Very Good|    H|    VS1| 59.4|   61|  338|   4|4.05|2.39|\n",
            "+-----+---------+-----+-------+-----+-----+-----+----+----+----+\n",
            "only showing top 10 rows\n",
            "\n"
          ]
        }
      ],
      "source": [
        "# Method 2: Useful Action with show()\n",
        "# Show first 10 datapoints\n",
        "df.show(10)"
      ]
    },
    {
      "cell_type": "code",
      "execution_count": 20,
      "id": "variable-wells",
      "metadata": {
        "colab": {
          "base_uri": "https://localhost:8080/",
          "height": 0
        },
        "id": "variable-wells",
        "outputId": "eff49785-8dc8-4a2a-8f93-e7b62a7d76c0"
      },
      "outputs": [
        {
          "output_type": "execute_result",
          "data": {
            "text/plain": [
              "[Row(carat='0.72', cut='Ideal', color='D', clarity='SI1', depth='60.8', table='57', price='2757', x='5.75', y='5.76', z='3.5'),\n",
              " Row(carat='0.72', cut='Good', color='D', clarity='SI1', depth='63.1', table='55', price='2757', x='5.69', y='5.75', z='3.61'),\n",
              " Row(carat='0.7', cut='Very Good', color='D', clarity='SI1', depth='62.8', table='60', price='2757', x='5.66', y='5.68', z='3.56'),\n",
              " Row(carat='0.86', cut='Premium', color='H', clarity='SI2', depth='61', table='58', price='2757', x='6.15', y='6.12', z='3.74'),\n",
              " Row(carat='0.75', cut='Ideal', color='D', clarity='SI2', depth='62.2', table='55', price='2757', x='5.83', y='5.87', z='3.64')]"
            ]
          },
          "metadata": {},
          "execution_count": 20
        }
      ],
      "source": [
        "# Get Last Rows\n",
        "df.tail(5)"
      ]
    },
    {
      "cell_type": "markdown",
      "id": "macro-provision",
      "metadata": {
        "id": "macro-provision"
      },
      "source": [
        "### Selection of columns\n",
        "+ .select\n",
        "######  Note\n",
        "+ Dot & Bracket Notation only gives the column name not the entire column\n",
        "    - ['colA']*\n",
        "    - .colA*"
      ]
    },
    {
      "cell_type": "code",
      "execution_count": 21,
      "id": "amended-robert",
      "metadata": {
        "colab": {
          "base_uri": "https://localhost:8080/",
          "height": 0
        },
        "id": "amended-robert",
        "outputId": "b8abc308-e2a3-4191-a3fc-86c979365d82"
      },
      "outputs": [
        {
          "output_type": "execute_result",
          "data": {
            "text/plain": [
              "['carat', 'cut', 'color', 'clarity', 'depth', 'table', 'price', 'x', 'y', 'z']"
            ]
          },
          "metadata": {},
          "execution_count": 21
        }
      ],
      "source": [
        "# List all Columns\n",
        "df.columns"
      ]
    },
    {
      "cell_type": "code",
      "execution_count": 22,
      "id": "elementary-eligibility",
      "metadata": {
        "colab": {
          "base_uri": "https://localhost:8080/",
          "height": 0
        },
        "id": "elementary-eligibility",
        "outputId": "74f602c4-241e-49d6-9ddb-339c14633dd6"
      },
      "outputs": [
        {
          "output_type": "stream",
          "name": "stdout",
          "text": [
            "+-----+\n",
            "|carat|\n",
            "+-----+\n",
            "| 0.23|\n",
            "| 0.21|\n",
            "| 0.23|\n",
            "| 0.29|\n",
            "| 0.31|\n",
            "| 0.24|\n",
            "| 0.24|\n",
            "| 0.26|\n",
            "| 0.22|\n",
            "| 0.23|\n",
            "|  0.3|\n",
            "| 0.23|\n",
            "| 0.22|\n",
            "| 0.31|\n",
            "|  0.2|\n",
            "| 0.32|\n",
            "|  0.3|\n",
            "|  0.3|\n",
            "|  0.3|\n",
            "|  0.3|\n",
            "+-----+\n",
            "only showing top 20 rows\n",
            "\n"
          ]
        }
      ],
      "source": [
        "# Select A Column\n",
        "df.select('carat').show()"
      ]
    },
    {
      "cell_type": "code",
      "execution_count": 23,
      "id": "compatible-investigator",
      "metadata": {
        "colab": {
          "base_uri": "https://localhost:8080/",
          "height": 0
        },
        "id": "compatible-investigator",
        "outputId": "29ed067e-e750-4904-b1d6-db5a358949fe"
      },
      "outputs": [
        {
          "output_type": "stream",
          "name": "stdout",
          "text": [
            "+-----+\n",
            "|CARAT|\n",
            "+-----+\n",
            "| 0.23|\n",
            "| 0.21|\n",
            "| 0.23|\n",
            "| 0.29|\n",
            "| 0.31|\n",
            "| 0.24|\n",
            "| 0.24|\n",
            "| 0.26|\n",
            "| 0.22|\n",
            "| 0.23|\n",
            "|  0.3|\n",
            "| 0.23|\n",
            "| 0.22|\n",
            "| 0.31|\n",
            "|  0.2|\n",
            "| 0.32|\n",
            "|  0.3|\n",
            "|  0.3|\n",
            "|  0.3|\n",
            "|  0.3|\n",
            "+-----+\n",
            "only showing top 20 rows\n",
            "\n"
          ]
        }
      ],
      "source": [
        "# Select A Column irrespective of column word case\n",
        "# will work irrespective of the case of the column once it is found within the dataset\n",
        "df.select('CARAT').show()"
      ]
    },
    {
      "cell_type": "code",
      "execution_count": 24,
      "id": "unnecessary-yeast",
      "metadata": {
        "colab": {
          "base_uri": "https://localhost:8080/",
          "height": 0
        },
        "id": "unnecessary-yeast",
        "outputId": "63986009-f683-42d2-8fa2-d6bec3ed72cb"
      },
      "outputs": [
        {
          "output_type": "execute_result",
          "data": {
            "text/plain": [
              "Column<'carat'>"
            ]
          },
          "metadata": {},
          "execution_count": 24
        }
      ],
      "source": [
        "# This is not as we would expect in pandas\n",
        "# For Bracket Notation : pick column name not the entire columne\n",
        "df['carat']"
      ]
    },
    {
      "cell_type": "code",
      "execution_count": 25,
      "id": "athletic-heath",
      "metadata": {
        "colab": {
          "base_uri": "https://localhost:8080/",
          "height": 0
        },
        "id": "athletic-heath",
        "outputId": "160e9e2d-47ca-4dd9-d9a8-fe41f5e91dd2"
      },
      "outputs": [
        {
          "output_type": "execute_result",
          "data": {
            "text/plain": [
              "Column<'carat'>"
            ]
          },
          "metadata": {},
          "execution_count": 25
        }
      ],
      "source": [
        "# This is not as we would expect in pandas\n",
        "# For Dot Notation : pick column name not the entire column\n",
        "df.carat"
      ]
    },
    {
      "cell_type": "code",
      "execution_count": 26,
      "id": "detailed-karma",
      "metadata": {
        "colab": {
          "base_uri": "https://localhost:8080/",
          "height": 0
        },
        "id": "detailed-karma",
        "outputId": "c5d2aeab-8bc1-467c-f2ac-5f93e1d87fbb"
      },
      "outputs": [
        {
          "output_type": "stream",
          "name": "stdout",
          "text": [
            "+-----+-------+\n",
            "|carat|    cut|\n",
            "+-----+-------+\n",
            "| 0.23|  Ideal|\n",
            "| 0.21|Premium|\n",
            "| 0.23|   Good|\n",
            "| 0.29|Premium|\n",
            "| 0.31|   Good|\n",
            "+-----+-------+\n",
            "only showing top 5 rows\n",
            "\n"
          ]
        }
      ],
      "source": [
        "# Select Multiple Columns\n",
        "df.select('carat','cut').show(5)"
      ]
    },
    {
      "cell_type": "markdown",
      "id": "distant-mathematics",
      "metadata": {
        "id": "distant-mathematics"
      },
      "source": [
        "### Column Filtering and Applying Conditions\n",
        "+ .filter\n",
        "+ .where"
      ]
    },
    {
      "cell_type": "code",
      "execution_count": 27,
      "id": "responsible-archive",
      "metadata": {
        "colab": {
          "base_uri": "https://localhost:8080/",
          "height": 0
        },
        "id": "responsible-archive",
        "outputId": "5998e39f-0782-4524-b440-fa1dad9184fd"
      },
      "outputs": [
        {
          "output_type": "stream",
          "name": "stdout",
          "text": [
            "+-----+---------+-----+-------+-----+-----+-----+----+----+----+\n",
            "|carat|      cut|color|clarity|depth|table|price|   x|   y|   z|\n",
            "+-----+---------+-----+-------+-----+-----+-----+----+----+----+\n",
            "| 0.23|    Ideal|    E|    SI2| 61.5|   55|  326|3.95|3.98|2.43|\n",
            "| 0.21|  Premium|    E|    SI1| 59.8|   61|  326|3.89|3.84|2.31|\n",
            "| 0.23|     Good|    E|    VS1| 56.9|   65|  327|4.05|4.07|2.31|\n",
            "| 0.29|  Premium|    I|    VS2| 62.4|   58|  334| 4.2|4.23|2.63|\n",
            "| 0.31|     Good|    J|    SI2| 63.3|   58|  335|4.34|4.35|2.75|\n",
            "| 0.24|Very Good|    J|   VVS2| 62.8|   57|  336|3.94|3.96|2.48|\n",
            "| 0.24|Very Good|    I|   VVS1| 62.3|   57|  336|3.95|3.98|2.47|\n",
            "| 0.26|Very Good|    H|    SI1| 61.9|   55|  337|4.07|4.11|2.53|\n",
            "| 0.22|     Fair|    E|    VS2| 65.1|   61|  337|3.87|3.78|2.49|\n",
            "| 0.23|Very Good|    H|    VS1| 59.4|   61|  338|   4|4.05|2.39|\n",
            "+-----+---------+-----+-------+-----+-----+-----+----+----+----+\n",
            "only showing top 10 rows\n",
            "\n"
          ]
        }
      ],
      "source": [
        "# Filter of Columns\n",
        "# Apply A Condition\n",
        "df.show(10)"
      ]
    },
    {
      "cell_type": "code",
      "execution_count": 28,
      "id": "baking-reset",
      "metadata": {
        "colab": {
          "base_uri": "https://localhost:8080/",
          "height": 0
        },
        "id": "baking-reset",
        "outputId": "3316878c-5059-4059-9ea1-37243a64da51"
      },
      "outputs": [
        {
          "output_type": "stream",
          "name": "stdout",
          "text": [
            "+-----+----+-----+-------+-----+-----+-----+----+----+----+\n",
            "|carat| cut|color|clarity|depth|table|price|   x|   y|   z|\n",
            "+-----+----+-----+-------+-----+-----+-----+----+----+----+\n",
            "| 0.23|Good|    E|    VS1| 56.9|   65|  327|4.05|4.07|2.31|\n",
            "| 0.31|Good|    J|    SI2| 63.3|   58|  335|4.34|4.35|2.75|\n",
            "|  0.3|Good|    J|    SI1|   64|   55|  339|4.25|4.28|2.73|\n",
            "|  0.3|Good|    J|    SI1| 63.4|   54|  351|4.23|4.29| 2.7|\n",
            "|  0.3|Good|    J|    SI1| 63.8|   56|  351|4.23|4.26|2.71|\n",
            "|  0.3|Good|    I|    SI2| 63.3|   56|  351|4.26| 4.3|2.71|\n",
            "| 0.23|Good|    F|    VS1| 58.2|   59|  402|4.06|4.08|2.37|\n",
            "| 0.23|Good|    E|    VS1| 64.1|   59|  402|3.83|3.85|2.46|\n",
            "| 0.31|Good|    H|    SI1|   64|   54|  402|4.29|4.31|2.75|\n",
            "| 0.26|Good|    D|    VS2| 65.2|   56|  403|3.99|4.02|2.61|\n",
            "| 0.26|Good|    D|    VS1| 58.4|   63|  403|4.19|4.24|2.46|\n",
            "| 0.32|Good|    H|    SI2| 63.1|   56|  403|4.34|4.37|2.75|\n",
            "| 0.32|Good|    H|    SI2| 63.8|   56|  403|4.36|4.38|2.79|\n",
            "|  0.3|Good|    I|    SI1| 63.2|   55|  405|4.25|4.29| 2.7|\n",
            "|  0.3|Good|    H|    SI1| 63.7|   57|  554|4.28|4.26|2.72|\n",
            "| 0.26|Good|    E|   VVS1| 57.9|   60|  554|4.22|4.25|2.45|\n",
            "|  0.7|Good|    E|    VS2| 57.5|   58| 2759|5.85| 5.9|3.38|\n",
            "|  0.7|Good|    F|    VS1| 59.4|   62| 2759|5.71|5.76| 3.4|\n",
            "|  0.7|Good|    H|   VVS2| 62.1|   64| 2767|5.62|5.65| 3.5|\n",
            "| 0.71|Good|    E|    VS2| 59.2|   61| 2772| 5.8|5.88|3.46|\n",
            "+-----+----+-----+-------+-----+-----+-----+----+----+----+\n",
            "only showing top 20 rows\n",
            "\n"
          ]
        }
      ],
      "source": [
        "# Method 1:using filter\n",
        "df.filter(df['cut'] == \"Good\").show()"
      ]
    },
    {
      "cell_type": "code",
      "execution_count": 29,
      "id": "printable-speech",
      "metadata": {
        "colab": {
          "base_uri": "https://localhost:8080/",
          "height": 0
        },
        "id": "printable-speech",
        "outputId": "8f5b850f-8404-472b-9a8c-cc024c31f2b0"
      },
      "outputs": [
        {
          "output_type": "stream",
          "name": "stdout",
          "text": [
            "+-----+---------+-----+-------+-----+-----+-----+----+----+----+\n",
            "|carat|      cut|color|clarity|depth|table|price|   x|   y|   z|\n",
            "+-----+---------+-----+-------+-----+-----+-----+----+----+----+\n",
            "|  0.7|    Ideal|    E|    SI1| 62.5|   57| 2757| 5.7|5.72|3.57|\n",
            "| 0.86|     Fair|    E|    SI2| 55.1|   69| 2757|6.45|6.33|3.52|\n",
            "|  0.7|    Ideal|    G|    VS2| 61.6|   56| 2757| 5.7|5.67| 3.5|\n",
            "| 0.71|Very Good|    E|    VS2| 62.4|   57| 2759|5.68|5.73|3.56|\n",
            "| 0.78|Very Good|    G|    SI2| 63.8|   56| 2759|5.81|5.85|3.72|\n",
            "|  0.7|     Good|    E|    VS2| 57.5|   58| 2759|5.85| 5.9|3.38|\n",
            "|  0.7|     Good|    F|    VS1| 59.4|   62| 2759|5.71|5.76| 3.4|\n",
            "| 0.96|     Fair|    F|    SI2| 66.3|   62| 2759|6.27|5.95|4.07|\n",
            "| 0.73|Very Good|    E|    SI1| 61.6|   59| 2760|5.77|5.78|3.56|\n",
            "|  0.8|  Premium|    H|    SI1| 61.5|   58| 2760|5.97|5.93|3.66|\n",
            "| 0.75|Very Good|    D|    SI1| 63.2|   56| 2760| 5.8|5.75|3.65|\n",
            "| 0.75|  Premium|    E|    SI1| 59.9|   54| 2760|   6|5.96|3.58|\n",
            "| 0.74|    Ideal|    G|    SI1| 61.6|   55| 2760| 5.8|5.85|3.59|\n",
            "| 0.75|  Premium|    G|    VS2| 61.7|   58| 2760|5.85|5.79|3.59|\n",
            "|  0.8|    Ideal|    I|    VS1| 62.9|   56| 2760|5.94|5.87|3.72|\n",
            "| 0.75|    Ideal|    G|    SI1| 62.2|   55| 2760|5.87| 5.8|3.63|\n",
            "|  0.8|  Premium|    G|    SI1|   63|   59| 2760| 5.9|5.81|3.69|\n",
            "| 0.74|    Ideal|    I|   VVS2| 62.3|   55| 2761|5.77|5.81|3.61|\n",
            "| 0.81|    Ideal|    F|    SI2| 58.8|   57| 2761|6.14|6.11| 3.6|\n",
            "|  0.8|    Ideal|    F|    SI2| 61.4|   57| 2761|5.96|   6|3.67|\n",
            "+-----+---------+-----+-------+-----+-----+-----+----+----+----+\n",
            "only showing top 20 rows\n",
            "\n"
          ]
        }
      ],
      "source": [
        "# Method 1:using filter\n",
        "df.filter(df.carat >= 0.7).show()"
      ]
    },
    {
      "cell_type": "code",
      "execution_count": 30,
      "id": "personal-monster",
      "metadata": {
        "colab": {
          "base_uri": "https://localhost:8080/",
          "height": 0
        },
        "id": "personal-monster",
        "outputId": "bce2b8ee-c21d-4e8f-8251-6be38c53f727"
      },
      "outputs": [
        {
          "output_type": "stream",
          "name": "stdout",
          "text": [
            "+-----+----+-----+-------+-----+-----+-----+----+----+----+\n",
            "|carat| cut|color|clarity|depth|table|price|   x|   y|   z|\n",
            "+-----+----+-----+-------+-----+-----+-----+----+----+----+\n",
            "| 0.23|Good|    E|    VS1| 56.9|   65|  327|4.05|4.07|2.31|\n",
            "| 0.31|Good|    J|    SI2| 63.3|   58|  335|4.34|4.35|2.75|\n",
            "|  0.3|Good|    J|    SI1|   64|   55|  339|4.25|4.28|2.73|\n",
            "|  0.3|Good|    J|    SI1| 63.4|   54|  351|4.23|4.29| 2.7|\n",
            "|  0.3|Good|    J|    SI1| 63.8|   56|  351|4.23|4.26|2.71|\n",
            "|  0.3|Good|    I|    SI2| 63.3|   56|  351|4.26| 4.3|2.71|\n",
            "| 0.23|Good|    F|    VS1| 58.2|   59|  402|4.06|4.08|2.37|\n",
            "| 0.23|Good|    E|    VS1| 64.1|   59|  402|3.83|3.85|2.46|\n",
            "| 0.31|Good|    H|    SI1|   64|   54|  402|4.29|4.31|2.75|\n",
            "| 0.26|Good|    D|    VS2| 65.2|   56|  403|3.99|4.02|2.61|\n",
            "| 0.26|Good|    D|    VS1| 58.4|   63|  403|4.19|4.24|2.46|\n",
            "| 0.32|Good|    H|    SI2| 63.1|   56|  403|4.34|4.37|2.75|\n",
            "| 0.32|Good|    H|    SI2| 63.8|   56|  403|4.36|4.38|2.79|\n",
            "|  0.3|Good|    I|    SI1| 63.2|   55|  405|4.25|4.29| 2.7|\n",
            "|  0.3|Good|    H|    SI1| 63.7|   57|  554|4.28|4.26|2.72|\n",
            "| 0.26|Good|    E|   VVS1| 57.9|   60|  554|4.22|4.25|2.45|\n",
            "|  0.7|Good|    E|    VS2| 57.5|   58| 2759|5.85| 5.9|3.38|\n",
            "|  0.7|Good|    F|    VS1| 59.4|   62| 2759|5.71|5.76| 3.4|\n",
            "|  0.7|Good|    H|   VVS2| 62.1|   64| 2767|5.62|5.65| 3.5|\n",
            "| 0.71|Good|    E|    VS2| 59.2|   61| 2772| 5.8|5.88|3.46|\n",
            "+-----+----+-----+-------+-----+-----+-----+----+----+----+\n",
            "only showing top 20 rows\n",
            "\n"
          ]
        }
      ],
      "source": [
        "# Method 2: where\n",
        "df.where(df['cut'] == 'Good').show()"
      ]
    },
    {
      "cell_type": "code",
      "execution_count": 31,
      "id": "theoretical-ghost",
      "metadata": {
        "colab": {
          "base_uri": "https://localhost:8080/",
          "height": 0
        },
        "id": "theoretical-ghost",
        "outputId": "33df2d88-a321-425a-e42b-e7b5dfb3623a"
      },
      "outputs": [
        {
          "output_type": "stream",
          "name": "stdout",
          "text": [
            "+-----+----+\n",
            "|price| cut|\n",
            "+-----+----+\n",
            "|  327|Good|\n",
            "|  335|Good|\n",
            "|  339|Good|\n",
            "|  351|Good|\n",
            "|  351|Good|\n",
            "|  351|Good|\n",
            "|  402|Good|\n",
            "|  402|Good|\n",
            "|  402|Good|\n",
            "|  403|Good|\n",
            "|  403|Good|\n",
            "|  403|Good|\n",
            "|  403|Good|\n",
            "|  405|Good|\n",
            "|  554|Good|\n",
            "|  554|Good|\n",
            "| 2759|Good|\n",
            "| 2759|Good|\n",
            "| 2767|Good|\n",
            "| 2772|Good|\n",
            "+-----+----+\n",
            "only showing top 20 rows\n",
            "\n"
          ]
        }
      ],
      "source": [
        "# Method 2: where\n",
        "# select certain columns\n",
        "df.where(df['cut'] == 'Good').select('price','cut').show()"
      ]
    },
    {
      "cell_type": "code",
      "execution_count": 32,
      "id": "motivated-nevada",
      "metadata": {
        "colab": {
          "base_uri": "https://localhost:8080/",
          "height": 0
        },
        "id": "motivated-nevada",
        "outputId": "01e07009-4bf0-4b24-bbfe-8b771b2413c9"
      },
      "outputs": [
        {
          "output_type": "stream",
          "name": "stdout",
          "text": [
            "+---------+\n",
            "|      cut|\n",
            "+---------+\n",
            "|  Premium|\n",
            "|    Ideal|\n",
            "|     Good|\n",
            "|     Fair|\n",
            "|Very Good|\n",
            "+---------+\n",
            "\n"
          ]
        }
      ],
      "source": [
        "# Unique Values\n",
        "# df['cut'].unique()\n",
        "df.select(\"cut\").distinct().show()"
      ]
    },
    {
      "cell_type": "markdown",
      "id": "strange-heritage",
      "metadata": {
        "id": "strange-heritage"
      },
      "source": [
        "### How to Add Columns & Delete/Drop Columns\n",
        "+ .withColumn()\n",
        "+ .drop()"
      ]
    },
    {
      "cell_type": "code",
      "execution_count": 33,
      "id": "sharing-trouble",
      "metadata": {
        "colab": {
          "base_uri": "https://localhost:8080/",
          "height": 0
        },
        "id": "sharing-trouble",
        "outputId": "9392efce-331e-4c1c-c2b0-8d1e23f2a15e"
      },
      "outputs": [
        {
          "output_type": "stream",
          "name": "stdout",
          "text": [
            "+-----+---------+-----+-------+-----+-----+-----+----+----+----+------------------+\n",
            "|carat|      cut|color|clarity|depth|table|price|   x|   y|   z|          carat10x|\n",
            "+-----+---------+-----+-------+-----+-----+-----+----+----+----+------------------+\n",
            "| 0.23|    Ideal|    E|    SI2| 61.5|   55|  326|3.95|3.98|2.43|2.3000000000000003|\n",
            "| 0.21|  Premium|    E|    SI1| 59.8|   61|  326|3.89|3.84|2.31|               2.1|\n",
            "| 0.23|     Good|    E|    VS1| 56.9|   65|  327|4.05|4.07|2.31|2.3000000000000003|\n",
            "| 0.29|  Premium|    I|    VS2| 62.4|   58|  334| 4.2|4.23|2.63|               2.9|\n",
            "| 0.31|     Good|    J|    SI2| 63.3|   58|  335|4.34|4.35|2.75|               3.1|\n",
            "| 0.24|Very Good|    J|   VVS2| 62.8|   57|  336|3.94|3.96|2.48|               2.4|\n",
            "| 0.24|Very Good|    I|   VVS1| 62.3|   57|  336|3.95|3.98|2.47|               2.4|\n",
            "| 0.26|Very Good|    H|    SI1| 61.9|   55|  337|4.07|4.11|2.53|               2.6|\n",
            "| 0.22|     Fair|    E|    VS2| 65.1|   61|  337|3.87|3.78|2.49|               2.2|\n",
            "| 0.23|Very Good|    H|    VS1| 59.4|   61|  338|   4|4.05|2.39|2.3000000000000003|\n",
            "|  0.3|     Good|    J|    SI1|   64|   55|  339|4.25|4.28|2.73|               3.0|\n",
            "| 0.23|    Ideal|    J|    VS1| 62.8|   56|  340|3.93| 3.9|2.46|2.3000000000000003|\n",
            "| 0.22|  Premium|    F|    SI1| 60.4|   61|  342|3.88|3.84|2.33|               2.2|\n",
            "| 0.31|    Ideal|    J|    SI2| 62.2|   54|  344|4.35|4.37|2.71|               3.1|\n",
            "|  0.2|  Premium|    E|    SI2| 60.2|   62|  345|3.79|3.75|2.27|               2.0|\n",
            "| 0.32|  Premium|    E|     I1| 60.9|   58|  345|4.38|4.42|2.68|               3.2|\n",
            "|  0.3|    Ideal|    I|    SI2|   62|   54|  348|4.31|4.34|2.68|               3.0|\n",
            "|  0.3|     Good|    J|    SI1| 63.4|   54|  351|4.23|4.29| 2.7|               3.0|\n",
            "|  0.3|     Good|    J|    SI1| 63.8|   56|  351|4.23|4.26|2.71|               3.0|\n",
            "|  0.3|Very Good|    J|    SI1| 62.7|   59|  351|4.21|4.27|2.66|               3.0|\n",
            "+-----+---------+-----+-------+-----+-----+-----+----+----+----+------------------+\n",
            "only showing top 20 rows\n",
            "\n"
          ]
        }
      ],
      "source": [
        "# Add Columns\n",
        "df.withColumn(\"carat10x\",df['carat'] * 10).show()"
      ]
    },
    {
      "cell_type": "code",
      "execution_count": 34,
      "id": "approved-tuner",
      "metadata": {
        "colab": {
          "base_uri": "https://localhost:8080/",
          "height": 0
        },
        "id": "approved-tuner",
        "outputId": "63d88c19-4631-4d61-91c8-cae30d486db1"
      },
      "outputs": [
        {
          "output_type": "stream",
          "name": "stdout",
          "text": [
            "+-----+---------+-----+-------+-----+-----+-----+----+----+----+\n",
            "|carat|      cut|color|clarity|depth|table|price|   x|   y|   z|\n",
            "+-----+---------+-----+-------+-----+-----+-----+----+----+----+\n",
            "| 0.23|    Ideal|    E|    SI2| 61.5|   55|  326|3.95|3.98|2.43|\n",
            "| 0.21|  Premium|    E|    SI1| 59.8|   61|  326|3.89|3.84|2.31|\n",
            "| 0.23|     Good|    E|    VS1| 56.9|   65|  327|4.05|4.07|2.31|\n",
            "| 0.29|  Premium|    I|    VS2| 62.4|   58|  334| 4.2|4.23|2.63|\n",
            "| 0.31|     Good|    J|    SI2| 63.3|   58|  335|4.34|4.35|2.75|\n",
            "| 0.24|Very Good|    J|   VVS2| 62.8|   57|  336|3.94|3.96|2.48|\n",
            "| 0.24|Very Good|    I|   VVS1| 62.3|   57|  336|3.95|3.98|2.47|\n",
            "| 0.26|Very Good|    H|    SI1| 61.9|   55|  337|4.07|4.11|2.53|\n",
            "| 0.22|     Fair|    E|    VS2| 65.1|   61|  337|3.87|3.78|2.49|\n",
            "| 0.23|Very Good|    H|    VS1| 59.4|   61|  338|   4|4.05|2.39|\n",
            "|  0.3|     Good|    J|    SI1|   64|   55|  339|4.25|4.28|2.73|\n",
            "| 0.23|    Ideal|    J|    VS1| 62.8|   56|  340|3.93| 3.9|2.46|\n",
            "| 0.22|  Premium|    F|    SI1| 60.4|   61|  342|3.88|3.84|2.33|\n",
            "| 0.31|    Ideal|    J|    SI2| 62.2|   54|  344|4.35|4.37|2.71|\n",
            "|  0.2|  Premium|    E|    SI2| 60.2|   62|  345|3.79|3.75|2.27|\n",
            "| 0.32|  Premium|    E|     I1| 60.9|   58|  345|4.38|4.42|2.68|\n",
            "|  0.3|    Ideal|    I|    SI2|   62|   54|  348|4.31|4.34|2.68|\n",
            "|  0.3|     Good|    J|    SI1| 63.4|   54|  351|4.23|4.29| 2.7|\n",
            "|  0.3|     Good|    J|    SI1| 63.8|   56|  351|4.23|4.26|2.71|\n",
            "|  0.3|Very Good|    J|    SI1| 62.7|   59|  351|4.21|4.27|2.66|\n",
            "+-----+---------+-----+-------+-----+-----+-----+----+----+----+\n",
            "only showing top 20 rows\n",
            "\n"
          ]
        }
      ],
      "source": [
        "df.show()"
      ]
    },
    {
      "cell_type": "code",
      "execution_count": 35,
      "id": "challenging-quebec",
      "metadata": {
        "id": "challenging-quebec"
      },
      "outputs": [],
      "source": [
        "df2 = df.withColumn(\"carat10x\",df['carat'] * 10)"
      ]
    },
    {
      "cell_type": "code",
      "execution_count": 36,
      "id": "confident-prince",
      "metadata": {
        "colab": {
          "base_uri": "https://localhost:8080/",
          "height": 0
        },
        "id": "confident-prince",
        "outputId": "d39eae0a-8432-45f0-b4cb-f4d65a5249af"
      },
      "outputs": [
        {
          "output_type": "stream",
          "name": "stdout",
          "text": [
            "+-----+---------+-----+-------+-----+-----+-----+----+----+----+------------------+\n",
            "|carat|      cut|color|clarity|depth|table|price|   x|   y|   z|          carat10x|\n",
            "+-----+---------+-----+-------+-----+-----+-----+----+----+----+------------------+\n",
            "| 0.23|    Ideal|    E|    SI2| 61.5|   55|  326|3.95|3.98|2.43|2.3000000000000003|\n",
            "| 0.21|  Premium|    E|    SI1| 59.8|   61|  326|3.89|3.84|2.31|               2.1|\n",
            "| 0.23|     Good|    E|    VS1| 56.9|   65|  327|4.05|4.07|2.31|2.3000000000000003|\n",
            "| 0.29|  Premium|    I|    VS2| 62.4|   58|  334| 4.2|4.23|2.63|               2.9|\n",
            "| 0.31|     Good|    J|    SI2| 63.3|   58|  335|4.34|4.35|2.75|               3.1|\n",
            "| 0.24|Very Good|    J|   VVS2| 62.8|   57|  336|3.94|3.96|2.48|               2.4|\n",
            "| 0.24|Very Good|    I|   VVS1| 62.3|   57|  336|3.95|3.98|2.47|               2.4|\n",
            "| 0.26|Very Good|    H|    SI1| 61.9|   55|  337|4.07|4.11|2.53|               2.6|\n",
            "| 0.22|     Fair|    E|    VS2| 65.1|   61|  337|3.87|3.78|2.49|               2.2|\n",
            "| 0.23|Very Good|    H|    VS1| 59.4|   61|  338|   4|4.05|2.39|2.3000000000000003|\n",
            "|  0.3|     Good|    J|    SI1|   64|   55|  339|4.25|4.28|2.73|               3.0|\n",
            "| 0.23|    Ideal|    J|    VS1| 62.8|   56|  340|3.93| 3.9|2.46|2.3000000000000003|\n",
            "| 0.22|  Premium|    F|    SI1| 60.4|   61|  342|3.88|3.84|2.33|               2.2|\n",
            "| 0.31|    Ideal|    J|    SI2| 62.2|   54|  344|4.35|4.37|2.71|               3.1|\n",
            "|  0.2|  Premium|    E|    SI2| 60.2|   62|  345|3.79|3.75|2.27|               2.0|\n",
            "| 0.32|  Premium|    E|     I1| 60.9|   58|  345|4.38|4.42|2.68|               3.2|\n",
            "|  0.3|    Ideal|    I|    SI2|   62|   54|  348|4.31|4.34|2.68|               3.0|\n",
            "|  0.3|     Good|    J|    SI1| 63.4|   54|  351|4.23|4.29| 2.7|               3.0|\n",
            "|  0.3|     Good|    J|    SI1| 63.8|   56|  351|4.23|4.26|2.71|               3.0|\n",
            "|  0.3|Very Good|    J|    SI1| 62.7|   59|  351|4.21|4.27|2.66|               3.0|\n",
            "+-----+---------+-----+-------+-----+-----+-----+----+----+----+------------------+\n",
            "only showing top 20 rows\n",
            "\n"
          ]
        }
      ],
      "source": [
        "df2.show()"
      ]
    },
    {
      "cell_type": "code",
      "execution_count": 37,
      "id": "metropolitan-reminder",
      "metadata": {
        "colab": {
          "base_uri": "https://localhost:8080/",
          "height": 0
        },
        "id": "metropolitan-reminder",
        "outputId": "fda5b965-3748-477c-a3c7-c967aeb7ebe8"
      },
      "outputs": [
        {
          "output_type": "stream",
          "name": "stdout",
          "text": [
            "+-----+---------+-----+-------+-----+-----+-----+----+----+----+\n",
            "|carat|      cut|color|clarity|depth|table|price|   x|   y|   z|\n",
            "+-----+---------+-----+-------+-----+-----+-----+----+----+----+\n",
            "| 0.23|    Ideal|    E|    SI2| 61.5|   55|  326|3.95|3.98|2.43|\n",
            "| 0.21|  Premium|    E|    SI1| 59.8|   61|  326|3.89|3.84|2.31|\n",
            "| 0.23|     Good|    E|    VS1| 56.9|   65|  327|4.05|4.07|2.31|\n",
            "| 0.29|  Premium|    I|    VS2| 62.4|   58|  334| 4.2|4.23|2.63|\n",
            "| 0.31|     Good|    J|    SI2| 63.3|   58|  335|4.34|4.35|2.75|\n",
            "| 0.24|Very Good|    J|   VVS2| 62.8|   57|  336|3.94|3.96|2.48|\n",
            "| 0.24|Very Good|    I|   VVS1| 62.3|   57|  336|3.95|3.98|2.47|\n",
            "| 0.26|Very Good|    H|    SI1| 61.9|   55|  337|4.07|4.11|2.53|\n",
            "| 0.22|     Fair|    E|    VS2| 65.1|   61|  337|3.87|3.78|2.49|\n",
            "| 0.23|Very Good|    H|    VS1| 59.4|   61|  338|   4|4.05|2.39|\n",
            "|  0.3|     Good|    J|    SI1|   64|   55|  339|4.25|4.28|2.73|\n",
            "| 0.23|    Ideal|    J|    VS1| 62.8|   56|  340|3.93| 3.9|2.46|\n",
            "| 0.22|  Premium|    F|    SI1| 60.4|   61|  342|3.88|3.84|2.33|\n",
            "| 0.31|    Ideal|    J|    SI2| 62.2|   54|  344|4.35|4.37|2.71|\n",
            "|  0.2|  Premium|    E|    SI2| 60.2|   62|  345|3.79|3.75|2.27|\n",
            "| 0.32|  Premium|    E|     I1| 60.9|   58|  345|4.38|4.42|2.68|\n",
            "|  0.3|    Ideal|    I|    SI2|   62|   54|  348|4.31|4.34|2.68|\n",
            "|  0.3|     Good|    J|    SI1| 63.4|   54|  351|4.23|4.29| 2.7|\n",
            "|  0.3|     Good|    J|    SI1| 63.8|   56|  351|4.23|4.26|2.71|\n",
            "|  0.3|Very Good|    J|    SI1| 62.7|   59|  351|4.21|4.27|2.66|\n",
            "+-----+---------+-----+-------+-----+-----+-----+----+----+----+\n",
            "only showing top 20 rows\n",
            "\n"
          ]
        }
      ],
      "source": [
        "# Delete/Drop A Column\n",
        "df2.drop('carat10x').show()"
      ]
    },
    {
      "cell_type": "markdown",
      "id": "international-railway",
      "metadata": {
        "id": "international-railway"
      },
      "source": [
        "### GroupBy\n",
        "+ value counts\n",
        "+ aggregate"
      ]
    },
    {
      "cell_type": "code",
      "execution_count": 38,
      "id": "greatest-theology",
      "metadata": {
        "colab": {
          "base_uri": "https://localhost:8080/",
          "height": 0
        },
        "id": "greatest-theology",
        "outputId": "e2981c6a-8f44-49ff-9d0c-59ff84ac82de"
      },
      "outputs": [
        {
          "output_type": "stream",
          "name": "stdout",
          "text": [
            "+---------+-----+\n",
            "|      cut|count|\n",
            "+---------+-----+\n",
            "|  Premium|13791|\n",
            "|    Ideal|21551|\n",
            "|     Good| 4906|\n",
            "|     Fair| 1610|\n",
            "|Very Good|12082|\n",
            "+---------+-----+\n",
            "\n"
          ]
        }
      ],
      "source": [
        "# Value Counts\n",
        "# df['cut'].value_counts()\n",
        "# df.groupby('cut')[].size()\n",
        "df.groupBy('cut').count().show()"
      ]
    },
    {
      "cell_type": "code",
      "execution_count": 39,
      "id": "packed-virginia",
      "metadata": {
        "colab": {
          "base_uri": "https://localhost:8080/",
          "height": 0
        },
        "id": "packed-virginia",
        "outputId": "2422381a-ea61-4a15-c0e6-00004bd0bc9c"
      },
      "outputs": [
        {
          "output_type": "stream",
          "name": "stdout",
          "text": [
            "+-----+\n",
            "|price|\n",
            "+-----+\n",
            "| 2904|\n",
            "| 3210|\n",
            "| 3414|\n",
            "| 3606|\n",
            "| 3959|\n",
            "| 4032|\n",
            "| 4821|\n",
            "| 4937|\n",
            "| 5325|\n",
            "| 6194|\n",
            "| 6240|\n",
            "| 6613|\n",
            "| 6731|\n",
            "| 7273|\n",
            "| 7711|\n",
            "| 7762|\n",
            "| 9009|\n",
            "| 9030|\n",
            "| 9586|\n",
            "|10096|\n",
            "+-----+\n",
            "only showing top 20 rows\n",
            "\n"
          ]
        }
      ],
      "source": [
        "# More Groupby\n",
        "df.groupBy('price').mean().show()"
      ]
    },
    {
      "cell_type": "code",
      "execution_count": 40,
      "id": "pediatric-check",
      "metadata": {
        "colab": {
          "base_uri": "https://localhost:8080/",
          "height": 0
        },
        "id": "pediatric-check",
        "outputId": "47eadc5b-6876-43c0-b6bd-64fb74f33950"
      },
      "outputs": [
        {
          "output_type": "stream",
          "name": "stdout",
          "text": [
            "+-----+\n",
            "|price|\n",
            "+-----+\n",
            "| 2904|\n",
            "| 3210|\n",
            "| 3414|\n",
            "| 3606|\n",
            "| 3959|\n",
            "| 4032|\n",
            "| 4821|\n",
            "| 4937|\n",
            "| 5325|\n",
            "| 6194|\n",
            "| 6240|\n",
            "| 6613|\n",
            "| 6731|\n",
            "| 7273|\n",
            "| 7711|\n",
            "| 7762|\n",
            "| 9009|\n",
            "| 9030|\n",
            "| 9586|\n",
            "|10096|\n",
            "+-----+\n",
            "only showing top 20 rows\n",
            "\n"
          ]
        }
      ],
      "source": [
        "#  Sum of A groupby\n",
        "df.groupBy('price').sum().show()"
      ]
    },
    {
      "cell_type": "code",
      "execution_count": 41,
      "id": "million-stick",
      "metadata": {
        "id": "million-stick"
      },
      "outputs": [],
      "source": [
        "# # Aggregation\n",
        "# df.groupBy('carat').agg('col':'sum')"
      ]
    },
    {
      "cell_type": "code",
      "execution_count": 42,
      "id": "executive-sheet",
      "metadata": {
        "colab": {
          "base_uri": "https://localhost:8080/",
          "height": 0
        },
        "id": "executive-sheet",
        "outputId": "96390578-442c-4ac7-abd9-d5046ab5f847"
      },
      "outputs": [
        {
          "output_type": "stream",
          "name": "stdout",
          "text": [
            "+-----+---------+-----+-------+-----+-----+-----+----+----+----+\n",
            "|carat|      cut|color|clarity|depth|table|price|   x|   y|   z|\n",
            "+-----+---------+-----+-------+-----+-----+-----+----+----+----+\n",
            "| 0.23|    Ideal|    E|    SI2| 61.5|   55|  326|3.95|3.98|2.43|\n",
            "| 0.21|  Premium|    E|    SI1| 59.8|   61|  326|3.89|3.84|2.31|\n",
            "| 0.23|     Good|    E|    VS1| 56.9|   65|  327|4.05|4.07|2.31|\n",
            "| 0.29|  Premium|    I|    VS2| 62.4|   58|  334| 4.2|4.23|2.63|\n",
            "| 0.31|     Good|    J|    SI2| 63.3|   58|  335|4.34|4.35|2.75|\n",
            "| 0.24|Very Good|    J|   VVS2| 62.8|   57|  336|3.94|3.96|2.48|\n",
            "| 0.24|Very Good|    I|   VVS1| 62.3|   57|  336|3.95|3.98|2.47|\n",
            "| 0.26|Very Good|    H|    SI1| 61.9|   55|  337|4.07|4.11|2.53|\n",
            "| 0.22|     Fair|    E|    VS2| 65.1|   61|  337|3.87|3.78|2.49|\n",
            "| 0.23|Very Good|    H|    VS1| 59.4|   61|  338|   4|4.05|2.39|\n",
            "|  0.3|     Good|    J|    SI1|   64|   55|  339|4.25|4.28|2.73|\n",
            "| 0.23|    Ideal|    J|    VS1| 62.8|   56|  340|3.93| 3.9|2.46|\n",
            "| 0.22|  Premium|    F|    SI1| 60.4|   61|  342|3.88|3.84|2.33|\n",
            "| 0.31|    Ideal|    J|    SI2| 62.2|   54|  344|4.35|4.37|2.71|\n",
            "|  0.2|  Premium|    E|    SI2| 60.2|   62|  345|3.79|3.75|2.27|\n",
            "| 0.32|  Premium|    E|     I1| 60.9|   58|  345|4.38|4.42|2.68|\n",
            "|  0.3|    Ideal|    I|    SI2|   62|   54|  348|4.31|4.34|2.68|\n",
            "|  0.3|     Good|    J|    SI1| 63.4|   54|  351|4.23|4.29| 2.7|\n",
            "|  0.3|     Good|    J|    SI1| 63.8|   56|  351|4.23|4.26|2.71|\n",
            "|  0.3|Very Good|    J|    SI1| 62.7|   59|  351|4.21|4.27|2.66|\n",
            "+-----+---------+-----+-------+-----+-----+-----+----+----+----+\n",
            "only showing top 20 rows\n",
            "\n"
          ]
        }
      ],
      "source": [
        "df.show()"
      ]
    },
    {
      "cell_type": "code",
      "execution_count": 43,
      "id": "mounted-alberta",
      "metadata": {
        "colab": {
          "base_uri": "https://localhost:8080/",
          "height": 0
        },
        "id": "mounted-alberta",
        "outputId": "02720747-4de1-4471-db8a-6c88e83d4a18"
      },
      "outputs": [
        {
          "output_type": "execute_result",
          "data": {
            "text/plain": [
              "['carat', 'cut', 'color', 'clarity', 'depth', 'table', 'price', 'x', 'y', 'z']"
            ]
          },
          "metadata": {},
          "execution_count": 43
        }
      ],
      "source": [
        "df.columns"
      ]
    },
    {
      "cell_type": "code",
      "execution_count": 44,
      "id": "classified-niger",
      "metadata": {
        "colab": {
          "base_uri": "https://localhost:8080/",
          "height": 0
        },
        "id": "classified-niger",
        "outputId": "2fb3b16a-1076-4854-e5c1-79b9fb262042"
      },
      "outputs": [
        {
          "output_type": "stream",
          "name": "stdout",
          "text": [
            "+-----+-----+-------+-----+-----+-----+----+----+----+---------+\n",
            "|carat|color|clarity|depth|table|price|   x|   y|   z|      cut|\n",
            "+-----+-----+-------+-----+-----+-----+----+----+----+---------+\n",
            "| 0.23|    E|    SI2| 61.5|   55|  326|3.95|3.98|2.43|    Ideal|\n",
            "| 0.21|    E|    SI1| 59.8|   61|  326|3.89|3.84|2.31|  Premium|\n",
            "| 0.23|    E|    VS1| 56.9|   65|  327|4.05|4.07|2.31|     Good|\n",
            "| 0.29|    I|    VS2| 62.4|   58|  334| 4.2|4.23|2.63|  Premium|\n",
            "| 0.31|    J|    SI2| 63.3|   58|  335|4.34|4.35|2.75|     Good|\n",
            "| 0.24|    J|   VVS2| 62.8|   57|  336|3.94|3.96|2.48|Very Good|\n",
            "| 0.24|    I|   VVS1| 62.3|   57|  336|3.95|3.98|2.47|Very Good|\n",
            "| 0.26|    H|    SI1| 61.9|   55|  337|4.07|4.11|2.53|Very Good|\n",
            "| 0.22|    E|    VS2| 65.1|   61|  337|3.87|3.78|2.49|     Fair|\n",
            "| 0.23|    H|    VS1| 59.4|   61|  338|   4|4.05|2.39|Very Good|\n",
            "|  0.3|    J|    SI1|   64|   55|  339|4.25|4.28|2.73|     Good|\n",
            "| 0.23|    J|    VS1| 62.8|   56|  340|3.93| 3.9|2.46|    Ideal|\n",
            "| 0.22|    F|    SI1| 60.4|   61|  342|3.88|3.84|2.33|  Premium|\n",
            "| 0.31|    J|    SI2| 62.2|   54|  344|4.35|4.37|2.71|    Ideal|\n",
            "|  0.2|    E|    SI2| 60.2|   62|  345|3.79|3.75|2.27|  Premium|\n",
            "| 0.32|    E|     I1| 60.9|   58|  345|4.38|4.42|2.68|  Premium|\n",
            "|  0.3|    I|    SI2|   62|   54|  348|4.31|4.34|2.68|    Ideal|\n",
            "|  0.3|    J|    SI1| 63.4|   54|  351|4.23|4.29| 2.7|     Good|\n",
            "|  0.3|    J|    SI1| 63.8|   56|  351|4.23|4.26|2.71|     Good|\n",
            "|  0.3|    J|    SI1| 62.7|   59|  351|4.21|4.27|2.66|Very Good|\n",
            "+-----+-----+-------+-----+-----+-----+----+----+----+---------+\n",
            "only showing top 20 rows\n",
            "\n"
          ]
        }
      ],
      "source": [
        "# Rearrange Columns\n",
        "df.select('carat', 'color', 'clarity', 'depth', 'table', 'price', 'x', 'y', 'z','cut').show()"
      ]
    },
    {
      "cell_type": "code",
      "execution_count": 45,
      "id": "incorporated-tonight",
      "metadata": {
        "id": "incorporated-tonight"
      },
      "outputs": [],
      "source": [
        "# Assign DF to a New DF\n",
        "new_df = df.select('carat', 'color', 'clarity', 'depth', 'table', 'price', 'x', 'y', 'z','cut')"
      ]
    },
    {
      "cell_type": "code",
      "execution_count": 46,
      "id": "narrow-suicide",
      "metadata": {
        "colab": {
          "base_uri": "https://localhost:8080/",
          "height": 0
        },
        "id": "narrow-suicide",
        "outputId": "29a7312a-0d7d-4216-95b9-7589c2934e08"
      },
      "outputs": [
        {
          "output_type": "execute_result",
          "data": {
            "text/plain": [
              "DataFrame[carat: string, color: string, clarity: string, depth: string, table: string, price: string, x: string, y: string, z: string, cut: string]"
            ]
          },
          "metadata": {},
          "execution_count": 46
        }
      ],
      "source": [
        "new_df"
      ]
    },
    {
      "cell_type": "code",
      "execution_count": 47,
      "id": "capital-details",
      "metadata": {
        "colab": {
          "base_uri": "https://localhost:8080/",
          "height": 0
        },
        "id": "capital-details",
        "outputId": "f4d394eb-d98d-4d93-9066-a12db3175220"
      },
      "outputs": [
        {
          "output_type": "execute_result",
          "data": {
            "text/plain": [
              "[('carat', 'string'),\n",
              " ('color', 'string'),\n",
              " ('clarity', 'string'),\n",
              " ('depth', 'string'),\n",
              " ('table', 'string'),\n",
              " ('price', 'string'),\n",
              " ('x', 'string'),\n",
              " ('y', 'string'),\n",
              " ('z', 'string'),\n",
              " ('cut', 'string')]"
            ]
          },
          "metadata": {},
          "execution_count": 47
        }
      ],
      "source": [
        "# Check Datatype\n",
        "new_df.dtypes"
      ]
    },
    {
      "cell_type": "code",
      "execution_count": 48,
      "id": "anonymous-pastor",
      "metadata": {
        "colab": {
          "base_uri": "https://localhost:8080/",
          "height": 0
        },
        "id": "anonymous-pastor",
        "outputId": "a656edcb-3880-4359-a4a9-c50906112272"
      },
      "outputs": [
        {
          "output_type": "stream",
          "name": "stdout",
          "text": [
            "root\n",
            " |-- carat: string (nullable = true)\n",
            " |-- cut: string (nullable = true)\n",
            " |-- color: string (nullable = true)\n",
            " |-- clarity: string (nullable = true)\n",
            " |-- depth: string (nullable = true)\n",
            " |-- table: string (nullable = true)\n",
            " |-- price: string (nullable = true)\n",
            " |-- x: string (nullable = true)\n",
            " |-- y: string (nullable = true)\n",
            " |-- z: string (nullable = true)\n",
            "\n"
          ]
        }
      ],
      "source": [
        "# Check For the Schema\n",
        "df.printSchema()"
      ]
    },
    {
      "cell_type": "code",
      "execution_count": 49,
      "id": "known-thirty",
      "metadata": {
        "colab": {
          "base_uri": "https://localhost:8080/",
          "height": 187
        },
        "id": "known-thirty",
        "outputId": "229837cd-a4ca-4a39-f29b-c522e424e72f"
      },
      "outputs": [
        {
          "output_type": "execute_result",
          "data": {
            "text/plain": [
              "pyspark.sql.dataframe.DataFrame"
            ],
            "text/html": [
              "<div style=\"max-width:800px; border: 1px solid var(--colab-border-color);\"><style>\n",
              "      pre.function-repr-contents {\n",
              "        overflow-x: auto;\n",
              "        padding: 8px 12px;\n",
              "        max-height: 500px;\n",
              "      }\n",
              "\n",
              "      pre.function-repr-contents.function-repr-contents-collapsed {\n",
              "        cursor: pointer;\n",
              "        max-height: 100px;\n",
              "      }\n",
              "    </style>\n",
              "    <pre style=\"white-space: initial; background:\n",
              "         var(--colab-secondary-surface-color); padding: 8px 12px;\n",
              "         border-bottom: 1px solid var(--colab-border-color);\"><b>pyspark.sql.dataframe.DataFrame</b><br/>def __init__(jdf: JavaObject, sql_ctx: Union[&#x27;SQLContext&#x27;, &#x27;SparkSession&#x27;])</pre><pre class=\"function-repr-contents function-repr-contents-collapsed\" style=\"\"><a class=\"filepath\" style=\"display:none\" href=\"#\">/usr/local/lib/python3.10/dist-packages/pyspark/sql/dataframe.py</a>A distributed collection of data grouped into named columns.\n",
              "\n",
              ".. versionadded:: 1.3.0\n",
              "\n",
              ".. versionchanged:: 3.4.0\n",
              "    Supports Spark Connect.\n",
              "\n",
              "Examples\n",
              "--------\n",
              "A :class:`DataFrame` is equivalent to a relational table in Spark SQL,\n",
              "and can be created using various functions in :class:`SparkSession`:\n",
              "\n",
              "&gt;&gt;&gt; people = spark.createDataFrame([\n",
              "...     {&quot;deptId&quot;: 1, &quot;age&quot;: 40, &quot;name&quot;: &quot;Hyukjin Kwon&quot;, &quot;gender&quot;: &quot;M&quot;, &quot;salary&quot;: 50},\n",
              "...     {&quot;deptId&quot;: 1, &quot;age&quot;: 50, &quot;name&quot;: &quot;Takuya Ueshin&quot;, &quot;gender&quot;: &quot;M&quot;, &quot;salary&quot;: 100},\n",
              "...     {&quot;deptId&quot;: 2, &quot;age&quot;: 60, &quot;name&quot;: &quot;Xinrong Meng&quot;, &quot;gender&quot;: &quot;F&quot;, &quot;salary&quot;: 150},\n",
              "...     {&quot;deptId&quot;: 3, &quot;age&quot;: 20, &quot;name&quot;: &quot;Haejoon Lee&quot;, &quot;gender&quot;: &quot;M&quot;, &quot;salary&quot;: 200}\n",
              "... ])\n",
              "\n",
              "Once created, it can be manipulated using the various domain-specific-language\n",
              "(DSL) functions defined in: :class:`DataFrame`, :class:`Column`.\n",
              "\n",
              "To select a column from the :class:`DataFrame`, use the apply method:\n",
              "\n",
              "&gt;&gt;&gt; age_col = people.age\n",
              "\n",
              "A more concrete example:\n",
              "\n",
              "&gt;&gt;&gt; # To create DataFrame using SparkSession\n",
              "... department = spark.createDataFrame([\n",
              "...     {&quot;id&quot;: 1, &quot;name&quot;: &quot;PySpark&quot;},\n",
              "...     {&quot;id&quot;: 2, &quot;name&quot;: &quot;ML&quot;},\n",
              "...     {&quot;id&quot;: 3, &quot;name&quot;: &quot;Spark SQL&quot;}\n",
              "... ])\n",
              "\n",
              "&gt;&gt;&gt; people.filter(people.age &gt; 30).join(\n",
              "...     department, people.deptId == department.id).groupBy(\n",
              "...     department.name, &quot;gender&quot;).agg({&quot;salary&quot;: &quot;avg&quot;, &quot;age&quot;: &quot;max&quot;}).show()\n",
              "+-------+------+-----------+--------+\n",
              "|   name|gender|avg(salary)|max(age)|\n",
              "+-------+------+-----------+--------+\n",
              "|     ML|     F|      150.0|      60|\n",
              "|PySpark|     M|       75.0|      50|\n",
              "+-------+------+-----------+--------+\n",
              "\n",
              "Notes\n",
              "-----\n",
              "A DataFrame should only be created as described above. It should not be directly\n",
              "created via using the constructor.</pre>\n",
              "      <script>\n",
              "      if (google.colab.kernel.accessAllowed && google.colab.files && google.colab.files.view) {\n",
              "        for (const element of document.querySelectorAll('.filepath')) {\n",
              "          element.style.display = 'block'\n",
              "          element.onclick = (event) => {\n",
              "            event.preventDefault();\n",
              "            event.stopPropagation();\n",
              "            google.colab.files.view(element.textContent, 80);\n",
              "          };\n",
              "        }\n",
              "      }\n",
              "      for (const element of document.querySelectorAll('.function-repr-contents')) {\n",
              "        element.onclick = (event) => {\n",
              "          event.preventDefault();\n",
              "          event.stopPropagation();\n",
              "          element.classList.toggle('function-repr-contents-collapsed');\n",
              "        };\n",
              "      }\n",
              "      </script>\n",
              "      </div>"
            ]
          },
          "metadata": {},
          "execution_count": 49
        }
      ],
      "source": [
        "# Check type of DF\n",
        "type(df)"
      ]
    },
    {
      "cell_type": "markdown",
      "id": "terminal-innocent",
      "metadata": {
        "id": "terminal-innocent"
      },
      "source": [
        "### Saving DataFrames as CSV,parquet etc"
      ]
    },
    {
      "cell_type": "code",
      "execution_count": 50,
      "id": "verified-theorem",
      "metadata": {
        "id": "verified-theorem"
      },
      "outputs": [],
      "source": [
        "# Save\n",
        "new_df.write.format('csv').option('header','true').save(\"diamond_clean.csv\")"
      ]
    },
    {
      "cell_type": "code",
      "execution_count": 51,
      "id": "eight-awareness",
      "metadata": {
        "colab": {
          "base_uri": "https://localhost:8080/",
          "height": 0
        },
        "id": "eight-awareness",
        "outputId": "8c49ce62-b528-496b-c3df-52a70605cf07"
      },
      "outputs": [
        {
          "output_type": "stream",
          "name": "stdout",
          "text": [
            "diamond_clean.csv  diamonds.csv  sample_data\n"
          ]
        }
      ],
      "source": [
        "!ls"
      ]
    },
    {
      "cell_type": "code",
      "execution_count": 52,
      "id": "brave-array",
      "metadata": {
        "id": "brave-array"
      },
      "outputs": [],
      "source": [
        "# Save  as parquet\n",
        "new_df.write.format('parquet').save(\"diamond_clean.parquet\")"
      ]
    },
    {
      "cell_type": "markdown",
      "id": "alternative-tuner",
      "metadata": {
        "id": "alternative-tuner"
      },
      "source": [
        "### Making SQL Queries\n",
        "+ parse in the spark.SparkContext\n",
        "+ sqlContext\n",
        "\n"
      ]
    },
    {
      "cell_type": "code",
      "execution_count": 53,
      "id": "chemical-dining",
      "metadata": {
        "id": "chemical-dining"
      },
      "outputs": [],
      "source": [
        "from pyspark.sql import SQLContext"
      ]
    },
    {
      "cell_type": "code",
      "execution_count": 54,
      "id": "bound-crack",
      "metadata": {
        "colab": {
          "base_uri": "https://localhost:8080/",
          "height": 0
        },
        "id": "bound-crack",
        "outputId": "770e1b52-4dff-43e8-dcb7-761d63970e18"
      },
      "outputs": [
        {
          "output_type": "execute_result",
          "data": {
            "text/plain": [
              "['Builder',\n",
              " '__annotations__',\n",
              " '__class__',\n",
              " '__delattr__',\n",
              " '__dict__',\n",
              " '__dir__',\n",
              " '__doc__',\n",
              " '__enter__',\n",
              " '__eq__',\n",
              " '__exit__',\n",
              " '__format__',\n",
              " '__ge__',\n",
              " '__getattribute__',\n",
              " '__gt__',\n",
              " '__hash__',\n",
              " '__init__',\n",
              " '__init_subclass__',\n",
              " '__le__',\n",
              " '__lt__',\n",
              " '__module__',\n",
              " '__ne__',\n",
              " '__new__',\n",
              " '__reduce__',\n",
              " '__reduce_ex__',\n",
              " '__repr__',\n",
              " '__setattr__',\n",
              " '__sizeof__',\n",
              " '__str__',\n",
              " '__subclasshook__',\n",
              " '__weakref__',\n",
              " '_activeSession',\n",
              " '_convert_from_pandas',\n",
              " '_createFromLocal',\n",
              " '_createFromRDD',\n",
              " '_create_dataframe',\n",
              " '_create_from_pandas_with_arrow',\n",
              " '_create_shell_session',\n",
              " '_getActiveSessionOrCreate',\n",
              " '_get_numpy_record_dtype',\n",
              " '_inferSchema',\n",
              " '_inferSchemaFromList',\n",
              " '_instantiatedSession',\n",
              " '_jconf',\n",
              " '_jsc',\n",
              " '_jsparkSession',\n",
              " '_jvm',\n",
              " '_repr_html_',\n",
              " '_sc',\n",
              " 'active',\n",
              " 'addArtifact',\n",
              " 'addArtifacts',\n",
              " 'addTag',\n",
              " 'builder',\n",
              " 'catalog',\n",
              " 'clearTags',\n",
              " 'client',\n",
              " 'conf',\n",
              " 'copyFromLocalToFs',\n",
              " 'createDataFrame',\n",
              " 'getActiveSession',\n",
              " 'getTags',\n",
              " 'interruptAll',\n",
              " 'interruptOperation',\n",
              " 'interruptTag',\n",
              " 'newSession',\n",
              " 'range',\n",
              " 'read',\n",
              " 'readStream',\n",
              " 'removeTag',\n",
              " 'sparkContext',\n",
              " 'sql',\n",
              " 'stop',\n",
              " 'streams',\n",
              " 'table',\n",
              " 'udf',\n",
              " 'udtf',\n",
              " 'version']"
            ]
          },
          "metadata": {},
          "execution_count": 54
        }
      ],
      "source": [
        "dir(spark)"
      ]
    },
    {
      "cell_type": "code",
      "execution_count": 55,
      "id": "alternative-celebrity",
      "metadata": {
        "id": "alternative-celebrity"
      },
      "outputs": [],
      "source": [
        "# Create A Spark Context From the Spark Session\n",
        "sc = spark.sparkContext"
      ]
    },
    {
      "cell_type": "code",
      "execution_count": 56,
      "id": "independent-accounting",
      "metadata": {
        "colab": {
          "base_uri": "https://localhost:8080/",
          "height": 0
        },
        "id": "independent-accounting",
        "outputId": "214a6c70-bcea-45f7-91d5-f633cd5a98e4"
      },
      "outputs": [
        {
          "output_type": "stream",
          "name": "stderr",
          "text": [
            "/usr/local/lib/python3.10/dist-packages/pyspark/sql/context.py:113: FutureWarning: Deprecated in 3.0.0. Use SparkSession.builder.getOrCreate() instead.\n",
            "  warnings.warn(\n"
          ]
        }
      ],
      "source": [
        "# Parse into the SQLContext\n",
        "sqlContext = SQLContext(sc)"
      ]
    },
    {
      "cell_type": "code",
      "execution_count": 57,
      "id": "general-reggae",
      "metadata": {
        "colab": {
          "base_uri": "https://localhost:8080/",
          "height": 0
        },
        "id": "general-reggae",
        "outputId": "496c6eb6-a419-474c-8ee8-35a07ee76c5f"
      },
      "outputs": [
        {
          "output_type": "stream",
          "name": "stderr",
          "text": [
            "/usr/local/lib/python3.10/dist-packages/pyspark/sql/dataframe.py:329: FutureWarning: Deprecated in 2.0, use createOrReplaceTempView instead.\n",
            "  warnings.warn(\"Deprecated in 2.0, use createOrReplaceTempView instead.\", FutureWarning)\n"
          ]
        }
      ],
      "source": [
        "# Register Current DataFrame As Temporal Table\n",
        "df.registerTempTable(\"DiamondsTable\")\n"
      ]
    },
    {
      "cell_type": "code",
      "execution_count": 58,
      "id": "incorporated-building",
      "metadata": {
        "colab": {
          "base_uri": "https://localhost:8080/",
          "height": 0
        },
        "id": "incorporated-building",
        "outputId": "14fc0611-217c-4de8-9eca-1fe971310212"
      },
      "outputs": [
        {
          "output_type": "stream",
          "name": "stdout",
          "text": [
            "+-----+---------+-----+-------+-----+-----+-----+----+----+----+\n",
            "|carat|      cut|color|clarity|depth|table|price|   x|   y|   z|\n",
            "+-----+---------+-----+-------+-----+-----+-----+----+----+----+\n",
            "| 0.23|    Ideal|    E|    SI2| 61.5|   55|  326|3.95|3.98|2.43|\n",
            "| 0.21|  Premium|    E|    SI1| 59.8|   61|  326|3.89|3.84|2.31|\n",
            "| 0.23|     Good|    E|    VS1| 56.9|   65|  327|4.05|4.07|2.31|\n",
            "| 0.29|  Premium|    I|    VS2| 62.4|   58|  334| 4.2|4.23|2.63|\n",
            "| 0.31|     Good|    J|    SI2| 63.3|   58|  335|4.34|4.35|2.75|\n",
            "| 0.24|Very Good|    J|   VVS2| 62.8|   57|  336|3.94|3.96|2.48|\n",
            "| 0.24|Very Good|    I|   VVS1| 62.3|   57|  336|3.95|3.98|2.47|\n",
            "| 0.26|Very Good|    H|    SI1| 61.9|   55|  337|4.07|4.11|2.53|\n",
            "| 0.22|     Fair|    E|    VS2| 65.1|   61|  337|3.87|3.78|2.49|\n",
            "| 0.23|Very Good|    H|    VS1| 59.4|   61|  338|   4|4.05|2.39|\n",
            "|  0.3|     Good|    J|    SI1|   64|   55|  339|4.25|4.28|2.73|\n",
            "| 0.23|    Ideal|    J|    VS1| 62.8|   56|  340|3.93| 3.9|2.46|\n",
            "| 0.22|  Premium|    F|    SI1| 60.4|   61|  342|3.88|3.84|2.33|\n",
            "| 0.31|    Ideal|    J|    SI2| 62.2|   54|  344|4.35|4.37|2.71|\n",
            "|  0.2|  Premium|    E|    SI2| 60.2|   62|  345|3.79|3.75|2.27|\n",
            "| 0.32|  Premium|    E|     I1| 60.9|   58|  345|4.38|4.42|2.68|\n",
            "|  0.3|    Ideal|    I|    SI2|   62|   54|  348|4.31|4.34|2.68|\n",
            "|  0.3|     Good|    J|    SI1| 63.4|   54|  351|4.23|4.29| 2.7|\n",
            "|  0.3|     Good|    J|    SI1| 63.8|   56|  351|4.23|4.26|2.71|\n",
            "|  0.3|Very Good|    J|    SI1| 62.7|   59|  351|4.21|4.27|2.66|\n",
            "+-----+---------+-----+-------+-----+-----+-----+----+----+----+\n",
            "only showing top 20 rows\n",
            "\n"
          ]
        }
      ],
      "source": [
        "# Making QUeries\n",
        "sqlContext.sql('SELECT * FROM DiamondsTable').show()"
      ]
    },
    {
      "cell_type": "code",
      "execution_count": 59,
      "id": "japanese-brick",
      "metadata": {
        "colab": {
          "base_uri": "https://localhost:8080/",
          "height": 0
        },
        "id": "japanese-brick",
        "outputId": "bdfe8d9b-bca2-4be4-eaf1-00b1db8c2622"
      },
      "outputs": [
        {
          "output_type": "execute_result",
          "data": {
            "text/plain": [
              "['__annotations__',\n",
              " '__class__',\n",
              " '__delattr__',\n",
              " '__dict__',\n",
              " '__dir__',\n",
              " '__doc__',\n",
              " '__eq__',\n",
              " '__format__',\n",
              " '__ge__',\n",
              " '__getattribute__',\n",
              " '__gt__',\n",
              " '__hash__',\n",
              " '__init__',\n",
              " '__init_subclass__',\n",
              " '__le__',\n",
              " '__lt__',\n",
              " '__module__',\n",
              " '__ne__',\n",
              " '__new__',\n",
              " '__reduce__',\n",
              " '__reduce_ex__',\n",
              " '__repr__',\n",
              " '__setattr__',\n",
              " '__sizeof__',\n",
              " '__str__',\n",
              " '__subclasshook__',\n",
              " '__weakref__',\n",
              " '_get_or_create',\n",
              " '_inferSchema',\n",
              " '_instantiatedContext',\n",
              " '_jsc',\n",
              " '_jsqlContext',\n",
              " '_jvm',\n",
              " '_sc',\n",
              " '_ssql_ctx',\n",
              " 'cacheTable',\n",
              " 'clearCache',\n",
              " 'createDataFrame',\n",
              " 'createExternalTable',\n",
              " 'dropTempTable',\n",
              " 'getConf',\n",
              " 'getOrCreate',\n",
              " 'newSession',\n",
              " 'range',\n",
              " 'read',\n",
              " 'readStream',\n",
              " 'registerDataFrameAsTable',\n",
              " 'registerFunction',\n",
              " 'registerJavaFunction',\n",
              " 'setConf',\n",
              " 'sparkSession',\n",
              " 'sql',\n",
              " 'streams',\n",
              " 'table',\n",
              " 'tableNames',\n",
              " 'tables',\n",
              " 'udf',\n",
              " 'udtf',\n",
              " 'uncacheTable']"
            ]
          },
          "metadata": {},
          "execution_count": 59
        }
      ],
      "source": [
        "# Can also use it to work with DataFrames\n",
        "dir(sqlContext)"
      ]
    }
  ],
  "metadata": {
    "kernelspec": {
      "display_name": "Python 3",
      "language": "python",
      "name": "python3"
    },
    "language_info": {
      "codemirror_mode": {
        "name": "ipython",
        "version": 3
      },
      "file_extension": ".py",
      "mimetype": "text/x-python",
      "name": "python",
      "nbconvert_exporter": "python",
      "pygments_lexer": "ipython3",
      "version": "3.8.6"
    },
    "colab": {
      "provenance": []
    }
  },
  "nbformat": 4,
  "nbformat_minor": 5
}